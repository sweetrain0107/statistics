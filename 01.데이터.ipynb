
  {
   "cell_type": "markdown",
   "metadata": {},
   "source": [
    "## 변수의 종류"
   ]
  },
  {
   "cell_type": "markdown",
   "metadata": {},
   "source": [
    "### 질적 변수와 양적 변수\n",
    "- 질적 변수 : 선택이 필요한 변수나 종류를 구분하기 위한 변수\n",
    "    - 2진 변수 : 남성과 여성, 흡연 여부 등 값이 2개뿐인 질적 변수\n",
    "- 양적 변수 : 시험 점수나 키와 같이 양을 표현하는 변수"
   ]
  },
  {
   "cell_type": "markdown",
   "metadata": {},
   "source": [
    "### 척도 수준\n",
    "- 질적 변수\n",
    "    - 명의 척도 \n",
    "        - 분류를 위한 변수로 변수의 동일성 여부에만 의미가 있음. (예. 학생번호, 성별)\n",
    "        - 예. 학생번호 4, 8 대소관계 의미 x, 합/차 계산 의미 x\n",
    "        \n",
    "    - 순위 척도\n",
    "        - 순서나 대소 관계에 의미가 있는 변수. (예. 성적 순위, 설문조사)\n",
    "        - 예. 4등이 8등보다 잘하니까 대소관계는 의미가 있는데, 4등 8등의 차이가 8등 12등 차이와 동일하다고 비교할 수 없음\n",
    "- 양적 변수\n",
    "    - 간격 척도\n",
    "        - 대소 관계와 함께 그 차이에 의미를 두는 변수 (예. 연도, 온도)\n",
    "        - 예. 60도는 30도보다 높은 온도라 대소 관계에 의미가 있지만, 60도가 30도의 2배는 아님\n",
    "    - 비례 척도\n",
    "        - 대소 관계, 차이, 비 모두 의미가 있는 변수 (예. 길이, 무게)\n",
    "        - 예. 50cm와 100cm의 차이가 50cm, 100cm는 50cm의 2배 \n",
    "    - 간격 척도와 비례 척도 구분이 어려울 경우?\n",
    "        - '0'이 없음을 나타내는지 여부를 판단 -> 길이에서 0cm는 없음을 의미, 온도에서는 0도는 온도가 없다는 뜻이 아님"
   ]
  },
  {
   "cell_type": "markdown",
   "metadata": {},
   "source": [
    "### 이산형 변수와 연속형 변수\n",
    "- 이산형 변수\n",
    "    - 0,1,2,3.. 와 같이 하나하나의 값을 취하는 변수\n",
    "    - 예. 주사위 눈(1,2,3,4,5,6)\n",
    "- 연속형 변수 \n",
    "    - 연속적인 값을 취할 수 있는 변수\n",
    "    - 예. 길이, 무게, 시간"
   ]
  },
  {
   "cell_type": "code",
   "execution_count": null,
   "metadata": {},
   "outputs": [],
   "source": []
  }
 ],
 "metadata": {
  "hide_input": false,
  "kernelspec": {
   "display_name": "Python 3 (ipykernel)",
   "language": "python",
   "name": "python3"
  },
  "language_info": {
   "codemirror_mode": {
    "name": "ipython",
    "version": 3
   },
   "file_extension": ".py",
   "mimetype": "text/x-python",
   "name": "python",
   "nbconvert_exporter": "python",
   "pygments_lexer": "ipython3",
   "version": "3.9.13"
  },
  "toc": {
   "base_numbering": 1,
   "nav_menu": {},
   "number_sections": true,
   "sideBar": true,
   "skip_h1_title": false,
   "title_cell": "Table of Contents",
   "title_sidebar": "Contents",
   "toc_cell": false,
   "toc_position": {},
   "toc_section_display": "block",
   "toc_window_display": false
  },
  "varInspector": {
   "cols": {
    "lenName": 16,
    "lenType": 16,
    "lenVar": 40
   },
   "kernels_config": {
    "python": {
     "delete_cmd_postfix": "",
     "delete_cmd_prefix": "del ",
     "library": "var_list.py",
     "varRefreshCmd": "print(var_dic_list())"
    },
    "r": {
     "delete_cmd_postfix": ") ",
     "delete_cmd_prefix": "rm(",
     "library": "var_list.r",
     "varRefreshCmd": "cat(var_dic_list()) "
    }
   },
   "types_to_exclude": [
    "module",
    "function",
    "builtin_function_or_method",
    "instance",
    "_Feature"
   ],
   "window_display": false
  }
 },
 "nbformat": 4,
 "nbformat_minor": 2
}
