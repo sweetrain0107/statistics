{
 "cells": [
  {
   "cell_type": "markdown",
   "metadata": {},
   "source": [
    "# 데이터에 관하여"
   ]
  },
  {
   "cell_type": "code",
   "execution_count": 1,
   "metadata": {
    "ExecuteTime": {
     "end_time": "2023-07-07T15:25:43.805374Z",
     "start_time": "2023-07-07T15:25:43.239918Z"
    }
   },
   "outputs": [],
   "source": [
    "# Pandas를 pd라는 이름으로 임포트한다\n",
    "import pandas as pd"
   ]
  },
  {
   "cell_type": "code",
   "execution_count": 2,
   "metadata": {
    "ExecuteTime": {
     "end_time": "2023-07-07T15:25:44.295977Z",
     "start_time": "2023-07-07T15:25:44.250440Z"
    }
   },
   "outputs": [
    {
     "data": {
      "text/html": [
       "<div>\n",
       "<style scoped>\n",
       "    .dataframe tbody tr th:only-of-type {\n",
       "        vertical-align: middle;\n",
       "    }\n",
       "\n",
       "    .dataframe tbody tr th {\n",
       "        vertical-align: top;\n",
       "    }\n",
       "\n",
       "    .dataframe thead th {\n",
       "        text-align: right;\n",
       "    }\n",
       "</style>\n",
       "<table border=\"1\" class=\"dataframe\">\n",
       "  <thead>\n",
       "    <tr style=\"text-align: right;\">\n",
       "      <th></th>\n",
       "      <th>학년</th>\n",
       "      <th>악력</th>\n",
       "      <th>윗몸일으키기</th>\n",
       "      <th>점수</th>\n",
       "      <th>순위</th>\n",
       "    </tr>\n",
       "    <tr>\n",
       "      <th>학생번호</th>\n",
       "      <th></th>\n",
       "      <th></th>\n",
       "      <th></th>\n",
       "      <th></th>\n",
       "      <th></th>\n",
       "    </tr>\n",
       "  </thead>\n",
       "  <tbody>\n",
       "    <tr>\n",
       "      <th>1</th>\n",
       "      <td>1</td>\n",
       "      <td>40.2</td>\n",
       "      <td>34</td>\n",
       "      <td>15</td>\n",
       "      <td>4</td>\n",
       "    </tr>\n",
       "    <tr>\n",
       "      <th>2</th>\n",
       "      <td>1</td>\n",
       "      <td>34.2</td>\n",
       "      <td>14</td>\n",
       "      <td>7</td>\n",
       "      <td>10</td>\n",
       "    </tr>\n",
       "    <tr>\n",
       "      <th>3</th>\n",
       "      <td>1</td>\n",
       "      <td>28.8</td>\n",
       "      <td>27</td>\n",
       "      <td>11</td>\n",
       "      <td>7</td>\n",
       "    </tr>\n",
       "    <tr>\n",
       "      <th>4</th>\n",
       "      <td>2</td>\n",
       "      <td>39.0</td>\n",
       "      <td>27</td>\n",
       "      <td>14</td>\n",
       "      <td>5</td>\n",
       "    </tr>\n",
       "    <tr>\n",
       "      <th>5</th>\n",
       "      <td>2</td>\n",
       "      <td>50.9</td>\n",
       "      <td>32</td>\n",
       "      <td>17</td>\n",
       "      <td>2</td>\n",
       "    </tr>\n",
       "    <tr>\n",
       "      <th>6</th>\n",
       "      <td>2</td>\n",
       "      <td>36.5</td>\n",
       "      <td>20</td>\n",
       "      <td>9</td>\n",
       "      <td>9</td>\n",
       "    </tr>\n",
       "    <tr>\n",
       "      <th>7</th>\n",
       "      <td>3</td>\n",
       "      <td>36.6</td>\n",
       "      <td>31</td>\n",
       "      <td>13</td>\n",
       "      <td>6</td>\n",
       "    </tr>\n",
       "    <tr>\n",
       "      <th>8</th>\n",
       "      <td>3</td>\n",
       "      <td>49.2</td>\n",
       "      <td>37</td>\n",
       "      <td>18</td>\n",
       "      <td>1</td>\n",
       "    </tr>\n",
       "    <tr>\n",
       "      <th>9</th>\n",
       "      <td>3</td>\n",
       "      <td>26.0</td>\n",
       "      <td>28</td>\n",
       "      <td>10</td>\n",
       "      <td>8</td>\n",
       "    </tr>\n",
       "    <tr>\n",
       "      <th>10</th>\n",
       "      <td>3</td>\n",
       "      <td>47.4</td>\n",
       "      <td>32</td>\n",
       "      <td>16</td>\n",
       "      <td>3</td>\n",
       "    </tr>\n",
       "  </tbody>\n",
       "</table>\n",
       "</div>"
      ],
      "text/plain": [
       "      학년    악력  윗몸일으키기  점수  순위\n",
       "학생번호                          \n",
       "1      1  40.2      34  15   4\n",
       "2      1  34.2      14   7  10\n",
       "3      1  28.8      27  11   7\n",
       "4      2  39.0      27  14   5\n",
       "5      2  50.9      32  17   2\n",
       "6      2  36.5      20   9   9\n",
       "7      3  36.6      31  13   6\n",
       "8      3  49.2      37  18   1\n",
       "9      3  26.0      28  10   8\n",
       "10     3  47.4      32  16   3"
      ]
     },
     "execution_count": 2,
     "metadata": {},
     "output_type": "execute_result"
    }
   ],
   "source": [
    "# 학생번호를 인덱스로 csv 파일을 읽어들여, 변수 df에 저장\n",
    "df = pd.read_csv('../data/ch1_sport_test.csv',\n",
    "                 index_col='학생번호')\n",
    "# 변수 df를 표시\n",
    "df"
   ]
  },
  {
   "cell_type": "code",
   "execution_count": 3,
   "metadata": {
    "ExecuteTime": {
     "end_time": "2023-07-07T15:25:45.171647Z",
     "start_time": "2023-07-07T15:25:45.163829Z"
    }
   },
   "outputs": [
    {
     "data": {
      "text/plain": [
       "학생번호\n",
       "1     40.2\n",
       "2     34.2\n",
       "3     28.8\n",
       "4     39.0\n",
       "5     50.9\n",
       "6     36.5\n",
       "7     36.6\n",
       "8     49.2\n",
       "9     26.0\n",
       "10    47.4\n",
       "Name: 악력, dtype: float64"
      ]
     },
     "execution_count": 3,
     "metadata": {},
     "output_type": "execute_result"
    }
   ],
   "source": [
    "df['악력']"
   ]
  },
  {
   "cell_type": "markdown",
   "metadata": {},
   "source": [
    "## 데이터의 크기\n",
    "- 데이터가 주어지면 제일 먼저 확인하는 것이 데이터의 크기\n",
    "- DataFrame의 크기는 shape라는 인스턴스 변수 참조하면 알 수 있음"
   ]
  },
  {
   "cell_type": "code",
   "execution_count": 4,
   "metadata": {
    "ExecuteTime": {
     "end_time": "2023-07-07T15:25:45.689383Z",
     "start_time": "2023-07-07T15:25:45.681153Z"
    }
   },
   "outputs": [
    {
     "data": {
      "text/plain": [
       "(10, 5)"
      ]
     },
     "execution_count": 4,
     "metadata": {},
     "output_type": "execute_result"
    }
   ],
   "source": [
    "df.shape"
   ]
  },
  {
   "cell_type": "markdown",
   "metadata": {},
   "source": [
    "## 변수의 종류"
   ]
  },
  {
   "cell_type": "markdown",
   "metadata": {},
   "source": [
    "### 질적 변수와 양적 변수\n",
    "- 질적 변수 : 선택이 필요한 변수나 종류를 구분하기 위한 변수\n",
    "    - 2진 변수 : 남성과 여성, 흡연 여부 등 값이 2개뿐인 질적 변수\n",
    "- 양적 변수 : 시험 점수나 키와 같이 양을 표현하는 변수"
   ]
  },
  {
   "cell_type": "markdown",
   "metadata": {},
   "source": [
    "### 척도 수준\n",
    "- 질적 변수\n",
    "    - 명의 척도 \n",
    "        - 분류를 위한 변수로 변수의 동일성 여부에만 의미가 있음. (예. 학생번호, 성별)\n",
    "        - 예. 학생번호 4, 8 대소관계 의미 x, 합/차 계산 의미 x\n",
    "        \n",
    "    - 순위 척도\n",
    "        - 순서나 대소 관계에 의미가 있는 변수. (예. 성적 순위, 설문조사)\n",
    "        - 예. 4등이 8등보다 잘하니까 대소관계는 의미가 있는데, 4등 8등의 차이가 8등 12등 차이와 동일하다고 비교할 수 없음\n",
    "- 양적 변수\n",
    "    - 간격 척도\n",
    "        - 대소 관계와 함께 그 차이에 의미를 두는 변수 (예. 연도, 온도)\n",
    "        - 예. 60도는 30도보다 높은 온도라 대소 관계에 의미가 있지만, 60도가 30도의 2배는 아님\n",
    "    - 비례 척도\n",
    "        - 대소 관계, 차이, 비 모두 의미가 있는 변수 (예. 길이, 무게)\n",
    "        - 예. 50cm와 100cm의 차이가 50cm, 100cm는 50cm의 2배 \n",
    "    - 간격 척도와 비례 척도 구분이 어려울 경우?\n",
    "        - '0'이 없음을 나타내는지 여부를 판단 -> 길이에서 0cm는 없음을 의미, 온도에서는 0도는 온도가 없다는 뜻이 아님"
   ]
  },
  {
   "cell_type": "markdown",
   "metadata": {},
   "source": [
    "### 이산형 변수와 연속형 변수\n",
    "- 이산형 변수\n",
    "    - 0,1,2,3.. 와 같이 하나하나의 값을 취하는 변수\n",
    "    - 예. 주사위 눈(1,2,3,4,5,6)\n",
    "- 연속형 변수 \n",
    "    - 연속적인 값을 취할 수 있는 변수\n",
    "    - 예. 길이, 무게, 시간"
   ]
  },
  {
   "cell_type": "code",
   "execution_count": null,
   "metadata": {},
   "outputs": [],
   "source": []
  }
 ],
 "metadata": {
  "hide_input": false,
  "kernelspec": {
   "display_name": "Python 3 (ipykernel)",
   "language": "python",
   "name": "python3"
  },
  "language_info": {
   "codemirror_mode": {
    "name": "ipython",
    "version": 3
   },
   "file_extension": ".py",
   "mimetype": "text/x-python",
   "name": "python",
   "nbconvert_exporter": "python",
   "pygments_lexer": "ipython3",
   "version": "3.9.13"
  },
  "toc": {
   "base_numbering": 1,
   "nav_menu": {},
   "number_sections": true,
   "sideBar": true,
   "skip_h1_title": false,
   "title_cell": "Table of Contents",
   "title_sidebar": "Contents",
   "toc_cell": false,
   "toc_position": {},
   "toc_section_display": "block",
   "toc_window_display": false
  },
  "varInspector": {
   "cols": {
    "lenName": 16,
    "lenType": 16,
    "lenVar": 40
   },
   "kernels_config": {
    "python": {
     "delete_cmd_postfix": "",
     "delete_cmd_prefix": "del ",
     "library": "var_list.py",
     "varRefreshCmd": "print(var_dic_list())"
    },
    "r": {
     "delete_cmd_postfix": ") ",
     "delete_cmd_prefix": "rm(",
     "library": "var_list.r",
     "varRefreshCmd": "cat(var_dic_list()) "
    }
   },
   "types_to_exclude": [
    "module",
    "function",
    "builtin_function_or_method",
    "instance",
    "_Feature"
   ],
   "window_display": false
  }
 },
 "nbformat": 4,
 "nbformat_minor": 2
}
